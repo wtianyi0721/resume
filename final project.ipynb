{
 "cells": [
  {
   "cell_type": "markdown",
   "id": "2eaca90e-fce8-41ad-9152-7833a5f00909",
   "metadata": {},
   "source": [
    "# Final project \n",
    "\n",
    "## 1. Introduction\n",
    "\n",
    "\n",
    "This study investigates the correlation between solar radiation and cloud coverage, focusing specifically on the Global Horizontal Irradiance (GHI), taking California state as an example. To understand this relationship, we will compare clear-sky GHI with actual GHI values. The data source is from the National Solar Radiation Database (NSRDB), which provides extensive meteorological and solar irradiance datasets. This comprehensive dataset covers a range of locations, time periods, and coordinations.\n",
    "\n",
    "Cloud coverage metrics are also obtained from the NSRDB. In this analysis, cloud optical depth and the average size of cloud droplets will be utilized, which influence both cloud reflectivity and absorption characteristics. Additionally, wind speed and dew point will be examined as factors that may affect cloud formation and behavior.\n",
    "\n",
    "The relationship between solar radiation and cloud coverage is a critical area of study in the field of renewable energy, particularly for solar energy generation. By visualizing all the variables and making comparisons, this study can facilitate the research in energy distribution thereby providing constructive advice on energy facility construction and weather solutions.\n",
    "\n",
    "\n",
    "## 2. Load the dataset\n",
    "First, in order to get access to this dataset, the h5pyd should be installed according to the instructions on the NSRDB official website.\n"
   ]
  },
  {
   "cell_type": "code",
   "execution_count": 1,
   "id": "eca28666-9ba2-4b2c-8b3c-3b48345afe49",
   "metadata": {},
   "outputs": [
    {
     "name": "stdout",
     "output_type": "stream",
     "text": [
      "/srv/conda/envs/notebook/bin/python\n"
     ]
    }
   ],
   "source": [
    "import sys\n",
    "print(sys.executable)\n",
    "## the h5 file already installed in the terminal"
   ]
  },
  {
   "cell_type": "code",
   "execution_count": 2,
   "id": "8ce2b77b-004b-4bd5-a0ba-7543b5bed204",
   "metadata": {},
   "outputs": [
    {
     "name": "stdout",
     "output_type": "stream",
     "text": [
      "Requirement already satisfied: h5pyd in /home/jovyan/.local/lib/python3.12/site-packages (0.18.0)\n",
      "Requirement already satisfied: numpy>=1.17.3 in /srv/conda/envs/notebook/lib/python3.12/site-packages (from h5pyd) (2.0.2)\n",
      "Requirement already satisfied: requests-unixsocket in /home/jovyan/.local/lib/python3.12/site-packages (from h5pyd) (0.3.0)\n",
      "Requirement already satisfied: pytz in /srv/conda/envs/notebook/lib/python3.12/site-packages (from h5pyd) (2024.1)\n",
      "Requirement already satisfied: pyjwt in /srv/conda/envs/notebook/lib/python3.12/site-packages (from h5pyd) (2.9.0)\n",
      "Requirement already satisfied: requests>=1.1 in /srv/conda/envs/notebook/lib/python3.12/site-packages (from requests-unixsocket->h5pyd) (2.32.3)\n",
      "Requirement already satisfied: charset-normalizer<4,>=2 in /srv/conda/envs/notebook/lib/python3.12/site-packages (from requests>=1.1->requests-unixsocket->h5pyd) (3.4.0)\n",
      "Requirement already satisfied: idna<4,>=2.5 in /srv/conda/envs/notebook/lib/python3.12/site-packages (from requests>=1.1->requests-unixsocket->h5pyd) (3.10)\n",
      "Requirement already satisfied: urllib3<3,>=1.21.1 in /srv/conda/envs/notebook/lib/python3.12/site-packages (from requests>=1.1->requests-unixsocket->h5pyd) (1.26.19)\n",
      "Requirement already satisfied: certifi>=2017.4.17 in /srv/conda/envs/notebook/lib/python3.12/site-packages (from requests>=1.1->requests-unixsocket->h5pyd) (2024.8.30)\n"
     ]
    }
   ],
   "source": [
    "!pip install h5pyd "
   ]
  },
  {
   "cell_type": "code",
   "execution_count": 3,
   "id": "6bcdda0e-bd6f-40fb-9233-65aaea462bf6",
   "metadata": {},
   "outputs": [],
   "source": [
    "%matplotlib inline\n",
    "import h5pyd\n",
    "import numpy as np\n",
    "import pandas as pd\n",
    "import matplotlib.pyplot as plt\n",
    "import matplotlib.image as mpimg\n",
    "from scipy.spatial import cKDTree\n",
    "import cartopy.crs as ccrs"
   ]
  },
  {
   "cell_type": "markdown",
   "id": "13775766-fbc8-4f07-84ff-91329553e2c8",
   "metadata": {},
   "source": [
    "Variables are displayed as follows. This is an h5pyd library. Then key dataset should be converted into data frame for further analysis."
   ]
  },
  {
   "cell_type": "code",
   "execution_count": 4,
   "id": "225143b4-4671-43b6-9119-9c5503641526",
   "metadata": {},
   "outputs": [
    {
     "data": {
      "text/plain": [
       "['air_temperature',\n",
       " 'alpha',\n",
       " 'aod',\n",
       " 'asymmetry',\n",
       " 'cld_opd_dcomp',\n",
       " 'cld_reff_dcomp',\n",
       " 'clearsky_dhi',\n",
       " 'clearsky_dni',\n",
       " 'clearsky_ghi',\n",
       " 'cloud_press_acha',\n",
       " 'cloud_type',\n",
       " 'coordinates',\n",
       " 'dew_point',\n",
       " 'dhi',\n",
       " 'dni',\n",
       " 'fill_flag',\n",
       " 'ghi',\n",
       " 'meta',\n",
       " 'ozone',\n",
       " 'relative_humidity',\n",
       " 'solar_zenith_angle',\n",
       " 'ssa',\n",
       " 'surface_albedo',\n",
       " 'surface_pressure',\n",
       " 'time_index',\n",
       " 'total_precipitable_water',\n",
       " 'wind_direction',\n",
       " 'wind_speed']"
      ]
     },
     "execution_count": 4,
     "metadata": {},
     "output_type": "execute_result"
    }
   ],
   "source": [
    "f = h5pyd.File(\"/nrel/nsrdb/v3/nsrdb_2020.h5\", 'r')\n",
    "list(f) ##list all the variables\n"
   ]
  },
  {
   "cell_type": "code",
   "execution_count": null,
   "id": "7d3f85ce-4ac0-4991-b5ab-eaa9be6ec1ab",
   "metadata": {},
   "outputs": [],
   "source": []
  },
  {
   "cell_type": "markdown",
   "id": "145a4509-0eab-4f30-bf8f-d867ceeea2a0",
   "metadata": {},
   "source": [
    "### Location data"
   ]
  },
  {
   "cell_type": "code",
   "execution_count": 5,
   "id": "216dc226-2446-4e06-8673-c69aae68facb",
   "metadata": {},
   "outputs": [
    {
     "name": "stdout",
     "output_type": "stream",
     "text": [
      "location data: \n",
      "   latitude   longitude  elevation  timezone  country    state   county  \\\n",
      "0    -19.99 -175.259995        0.0        13  b'None'  b'None'  b'None'   \n",
      "1    -19.99 -175.220001        0.0        13  b'None'  b'None'  b'None'   \n",
      "2    -19.99 -175.179993        0.0        13  b'None'  b'None'  b'None'   \n",
      "3    -19.99 -175.139999        0.0        13  b'None'  b'None'  b'None'   \n",
      "4    -19.99 -175.100006        0.0        13  b'None'  b'None'  b'None'   \n",
      "\n",
      "     urban  population  landcover  \n",
      "0  b'None'       -9999        210  \n",
      "1  b'None'       -9999        210  \n",
      "2  b'None'       -9999        210  \n",
      "3  b'None'       -9999        210  \n",
      "4  b'None'       -9999        210  \n",
      "--------------------------------------------------\n"
     ]
    }
   ],
   "source": [
    "dataset1 = pd.DataFrame(f['meta'][...])\n",
    "print('location data: ') \n",
    "print(dataset1.head())\n",
    "print('-'*50)"
   ]
  },
  {
   "cell_type": "code",
   "execution_count": 17,
   "id": "6fd74e24-f552-4b5c-805c-e3af63038210",
   "metadata": {},
   "outputs": [
    {
     "data": {
      "text/html": [
       "<div>\n",
       "<style scoped>\n",
       "    .dataframe tbody tr th:only-of-type {\n",
       "        vertical-align: middle;\n",
       "    }\n",
       "\n",
       "    .dataframe tbody tr th {\n",
       "        vertical-align: top;\n",
       "    }\n",
       "\n",
       "    .dataframe thead th {\n",
       "        text-align: right;\n",
       "    }\n",
       "</style>\n",
       "<table border=\"1\" class=\"dataframe\">\n",
       "  <thead>\n",
       "    <tr style=\"text-align: right;\">\n",
       "      <th></th>\n",
       "      <th>latitude</th>\n",
       "      <th>longitude</th>\n",
       "      <th>elevation</th>\n",
       "      <th>timezone</th>\n",
       "      <th>country</th>\n",
       "      <th>state</th>\n",
       "      <th>county</th>\n",
       "      <th>urban</th>\n",
       "      <th>population</th>\n",
       "      <th>landcover</th>\n",
       "    </tr>\n",
       "  </thead>\n",
       "  <tbody>\n",
       "    <tr>\n",
       "      <th>70276</th>\n",
       "      <td>32.529999</td>\n",
       "      <td>-117.099998</td>\n",
       "      <td>55.062500</td>\n",
       "      <td>-8</td>\n",
       "      <td>b'United States'</td>\n",
       "      <td>b'California'</td>\n",
       "      <td>b'San Diego'</td>\n",
       "      <td>b'None'</td>\n",
       "      <td>32326</td>\n",
       "      <td>130</td>\n",
       "    </tr>\n",
       "    <tr>\n",
       "      <th>70588</th>\n",
       "      <td>32.570000</td>\n",
       "      <td>-117.099998</td>\n",
       "      <td>7.100000</td>\n",
       "      <td>-8</td>\n",
       "      <td>b'United States'</td>\n",
       "      <td>b'California'</td>\n",
       "      <td>b'San Diego'</td>\n",
       "      <td>b'Tijuana'</td>\n",
       "      <td>27971</td>\n",
       "      <td>190</td>\n",
       "    </tr>\n",
       "    <tr>\n",
       "      <th>70589</th>\n",
       "      <td>32.570000</td>\n",
       "      <td>-117.059998</td>\n",
       "      <td>24.920000</td>\n",
       "      <td>-8</td>\n",
       "      <td>b'United States'</td>\n",
       "      <td>b'California'</td>\n",
       "      <td>b'San Diego'</td>\n",
       "      <td>b'Tijuana'</td>\n",
       "      <td>51608</td>\n",
       "      <td>190</td>\n",
       "    </tr>\n",
       "    <tr>\n",
       "      <th>70590</th>\n",
       "      <td>32.570000</td>\n",
       "      <td>-117.019997</td>\n",
       "      <td>96.599998</td>\n",
       "      <td>-8</td>\n",
       "      <td>b'United States'</td>\n",
       "      <td>b'California'</td>\n",
       "      <td>b'San Diego'</td>\n",
       "      <td>b'Tijuana'</td>\n",
       "      <td>15236</td>\n",
       "      <td>110</td>\n",
       "    </tr>\n",
       "    <tr>\n",
       "      <th>70591</th>\n",
       "      <td>32.570000</td>\n",
       "      <td>-116.980003</td>\n",
       "      <td>140.600006</td>\n",
       "      <td>-8</td>\n",
       "      <td>b'United States'</td>\n",
       "      <td>b'California'</td>\n",
       "      <td>b'San Diego'</td>\n",
       "      <td>b'Tijuana'</td>\n",
       "      <td>2949</td>\n",
       "      <td>130</td>\n",
       "    </tr>\n",
       "  </tbody>\n",
       "</table>\n",
       "</div>"
      ],
      "text/plain": [
       "        latitude   longitude   elevation  timezone           country  \\\n",
       "70276  32.529999 -117.099998   55.062500        -8  b'United States'   \n",
       "70588  32.570000 -117.099998    7.100000        -8  b'United States'   \n",
       "70589  32.570000 -117.059998   24.920000        -8  b'United States'   \n",
       "70590  32.570000 -117.019997   96.599998        -8  b'United States'   \n",
       "70591  32.570000 -116.980003  140.600006        -8  b'United States'   \n",
       "\n",
       "               state        county       urban  population  landcover  \n",
       "70276  b'California'  b'San Diego'     b'None'       32326        130  \n",
       "70588  b'California'  b'San Diego'  b'Tijuana'       27971        190  \n",
       "70589  b'California'  b'San Diego'  b'Tijuana'       51608        190  \n",
       "70590  b'California'  b'San Diego'  b'Tijuana'       15236        110  \n",
       "70591  b'California'  b'San Diego'  b'Tijuana'        2949        130  "
      ]
     },
     "execution_count": 17,
     "metadata": {},
     "output_type": "execute_result"
    }
   ],
   "source": [
    "meta = pd.DataFrame(f['meta'][...])\n",
    "Cal = meta.loc[meta['state'] == b'California']\n",
    "Cal.head()"
   ]
  },
  {
   "cell_type": "markdown",
   "id": "db8ac04d-a817-4874-a6ec-94eb07ec6dff",
   "metadata": {},
   "source": [
    "This study selects the dataset from California."
   ]
  },
  {
   "cell_type": "markdown",
   "id": "2e823a97-5f2c-4676-aae9-4f66bad58205",
   "metadata": {},
   "source": [
    "### Time slicing\n",
    "Since it is more complicated to conduct annual trends and GHI variations covering a long time span, this study selects"
   ]
  },
  {
   "cell_type": "code",
   "execution_count": 6,
   "id": "9a94f167-6912-4201-85e1-a943de4618b5",
   "metadata": {},
   "outputs": [
    {
     "name": "stdout",
     "output_type": "stream",
     "text": [
      "DatetimeIndex(['2020-01-01 00:00:00+00:00', '2020-01-01 00:30:00+00:00',\n",
      "               '2020-01-01 01:00:00+00:00', '2020-01-01 01:30:00+00:00',\n",
      "               '2020-01-01 02:00:00+00:00', '2020-01-01 02:30:00+00:00',\n",
      "               '2020-01-01 03:00:00+00:00', '2020-01-01 03:30:00+00:00',\n",
      "               '2020-01-01 04:00:00+00:00', '2020-01-01 04:30:00+00:00',\n",
      "               ...\n",
      "               '2020-12-31 19:00:00+00:00', '2020-12-31 19:30:00+00:00',\n",
      "               '2020-12-31 20:00:00+00:00', '2020-12-31 20:30:00+00:00',\n",
      "               '2020-12-31 21:00:00+00:00', '2020-12-31 21:30:00+00:00',\n",
      "               '2020-12-31 22:00:00+00:00', '2020-12-31 22:30:00+00:00',\n",
      "               '2020-12-31 23:00:00+00:00', '2020-12-31 23:30:00+00:00'],\n",
      "              dtype='datetime64[ns, UTC]', length=17568, freq=None)\n"
     ]
    }
   ],
   "source": [
    "time_index = pd.to_datetime(f['time_index'][...].astype(str))\n",
    "print(time_index)\n",
    "##Extract from time index"
   ]
  },
  {
   "cell_type": "code",
   "execution_count": 7,
   "id": "d6359046-d92f-48e3-a326-4cb33a49f517",
   "metadata": {},
   "outputs": [
    {
     "data": {
      "text/plain": [
       "array([2880, 2881, 2882, ..., 4365, 4366, 4367])"
      ]
     },
     "execution_count": 7,
     "metadata": {},
     "output_type": "execute_result"
    }
   ],
   "source": [
    "june = time_index.month == 3\n",
    "np.where(june)[0]"
   ]
  },
  {
   "cell_type": "code",
   "execution_count": 11,
   "id": "d6fb92ca-7be3-47af-86a0-47364066b34d",
   "metadata": {},
   "outputs": [
    {
     "name": "stdout",
     "output_type": "stream",
     "text": [
      "Choose a specific timestep -  8256\n"
     ]
    }
   ],
   "source": [
    "timestep = np.where(time_index == '2020-06-21 00:00:00')[0][0]\n",
    "print('Choose a specific timestep - ', timestep)"
   ]
  },
  {
   "cell_type": "markdown",
   "id": "fe27114e-10b3-436b-a03c-1df05cb23eff",
   "metadata": {},
   "source": [
    "### Global Horizontal Irradiance (GHI)\n",
    "\n",
    "The Global Horizontal Irradiance (GHI) is computed for clear skies using the REST2 model. REST2 is a high-performance model to predict cloudless-sky broadband irradiance. Because this database is very large, this study will select the 10th location and time stamps. \n"
   ]
  },
  {
   "cell_type": "code",
   "execution_count": 12,
   "id": "19cc80ae-4d4f-48b6-ab99-6b51aa1de036",
   "metadata": {},
   "outputs": [
    {
     "name": "stdout",
     "output_type": "stream",
     "text": [
      "<Attributes of HDF5 object at 136877729756608>\n"
     ]
    }
   ],
   "source": [
    "print(f['coordinates'].attrs)\n",
    "coords = f['coordinates'][...]"
   ]
  },
  {
   "cell_type": "code",
   "execution_count": null,
   "id": "cc28d880-3b9d-487c-9a85-c1db55eb6665",
   "metadata": {},
   "outputs": [],
   "source": []
  },
  {
   "cell_type": "code",
   "execution_count": null,
   "id": "f401252c-ea96-4add-b7b0-e31005e866f0",
   "metadata": {},
   "outputs": [],
   "source": [
    "dset = f['ghi']\n",
    "#data = dset[timestep, ::10] \n",
    "df = pd.DataFrame()\n",
    "df['longitude'] = coords[::10, 1]\n",
    "df['latitude'] = coords[::10, 0]\n",
    "#df['ghi'] = data / dset.attrs['psm_scale_factor']"
   ]
  },
  {
   "cell_type": "code",
   "execution_count": null,
   "id": "b499522c-86d9-43c0-b76e-e529b272fbf0",
   "metadata": {},
   "outputs": [],
   "source": [
    "df.shape"
   ]
  },
  {
   "cell_type": "code",
   "execution_count": null,
   "id": "76636ad3-7118-40a5-b691-e2079bdc4d70",
   "metadata": {},
   "outputs": [],
   "source": [
    "df.plot.scatter(x='longitude', y='latitude', c='ghi',\n",
    "                colormap='YlOrRd',\n",
    "                title=str(time_index[timestep]))\n",
    "plt.show()"
   ]
  },
  {
   "cell_type": "code",
   "execution_count": null,
   "id": "f68284d2-656b-483d-94d5-fb2099445b01",
   "metadata": {},
   "outputs": [],
   "source": []
  },
  {
   "cell_type": "code",
   "execution_count": null,
   "id": "fd33c833-5280-4e28-851b-43dead444e7b",
   "metadata": {},
   "outputs": [],
   "source": [
    "df = Cal['longitude', 'latitude']].copy()\n",
    "df['ghi'] = data / dset.attrs['psm_scale_factor']\n",
    "df.shape"
   ]
  },
  {
   "cell_type": "markdown",
   "id": "51fda581-a2f6-49e8-b900-45d8d813a297",
   "metadata": {},
   "source": [
    "### GHI statistics"
   ]
  },
  {
   "cell_type": "code",
   "execution_count": null,
   "id": "46882d1a-920d-494e-91ec-82d74f44ad39",
   "metadata": {},
   "outputs": [],
   "source": []
  },
  {
   "cell_type": "markdown",
   "id": "3988c1cd-642c-44c7-8ca4-0feed9c1fd52",
   "metadata": {},
   "source": [
    "## Cloud variables\n",
    "\n",
    "Cloud formation is a complex process influenced by various atmospheric conditions. According to xxx, therefore this study selects and the varibles of wind-speed and dew point will also be examined for further studies.\n",
    "\n",
    "cld_opd_dcomp: Cloud optical depth, which quantifies the extent to which clouds prevent solar radiation from reaching the surface.\n",
    "cld_reff_dcomp: Cloud effective radius, indicating the average size of cloud droplets, influencing cloud reflectivity and absorption characteristics.\n",
    "Wind-speed: also a factor that affect the cloud\n"
   ]
  },
  {
   "cell_type": "code",
   "execution_count": null,
   "id": "18233271-c852-46a0-b75f-789a96e54ef4",
   "metadata": {},
   "outputs": [],
   "source": []
  },
  {
   "cell_type": "markdown",
   "id": "86a474d8-f66c-4652-afe9-c3ee5945ede9",
   "metadata": {},
   "source": [
    "### Cloud optical depth (cld_opd_dcomp)"
   ]
  },
  {
   "cell_type": "code",
   "execution_count": null,
   "id": "1d336a13-3141-436b-8c96-446022f795f5",
   "metadata": {},
   "outputs": [],
   "source": [
    "clouddata1=f['cld_opd_dcomp']\n",
    "dataset_cloud1 = pd.DataFrame(clouddata1)\n"
   ]
  },
  {
   "cell_type": "code",
   "execution_count": null,
   "id": "36b739fe-26cf-4e30-a241-d689a31b4653",
   "metadata": {},
   "outputs": [],
   "source": []
  },
  {
   "cell_type": "markdown",
   "id": "7df49592-c834-467a-87e0-e1ed60cda2cb",
   "metadata": {},
   "source": [
    "### Cloud effective radius (cld_reff_dcomp)"
   ]
  },
  {
   "cell_type": "code",
   "execution_count": null,
   "id": "f3657261-edb7-4ad9-bbda-a2cbd22f713c",
   "metadata": {},
   "outputs": [],
   "source": [
    "clouddata1=f['cld_opd_dcomp']\n",
    "dataset_cloud1 = pd.DataFrame(clouddata1)\n"
   ]
  },
  {
   "cell_type": "code",
   "execution_count": null,
   "id": "24f0fa3f-eb0b-4916-b278-7666be8c8dc6",
   "metadata": {},
   "outputs": [],
   "source": []
  },
  {
   "cell_type": "code",
   "execution_count": null,
   "id": "447bc98d-1b84-4cae-b601-60dcd0b288af",
   "metadata": {},
   "outputs": [],
   "source": []
  }
 ],
 "metadata": {
  "kernelspec": {
   "display_name": "Python (resume)",
   "language": "python",
   "name": "resume"
  },
  "language_info": {
   "codemirror_mode": {
    "name": "ipython",
    "version": 3
   },
   "file_extension": ".py",
   "mimetype": "text/x-python",
   "name": "python",
   "nbconvert_exporter": "python",
   "pygments_lexer": "ipython3",
   "version": "3.12.7"
  }
 },
 "nbformat": 4,
 "nbformat_minor": 5
}
